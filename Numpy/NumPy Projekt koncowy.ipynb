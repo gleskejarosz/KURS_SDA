{
 "cells": [
  {
   "cell_type": "markdown",
   "metadata": {},
   "source": [
    "Analiza raportów finansowych za pomocą Numpy"
   ]
  },
  {
   "cell_type": "code",
   "execution_count": 5,
   "metadata": {},
   "outputs": [],
   "source": [
    "import numpy as np\n",
    "import pandas as pd\n",
    "from numpy.lib import recfunctions as rfn"
   ]
  },
  {
   "cell_type": "code",
   "execution_count": 6,
   "metadata": {},
   "outputs": [],
   "source": [
    "dtype = [\n",
    "    ('Company', 'U10'),\n",
    "    ('Quarter', 'U10'),\n",
    "    ('Revenue', 'f8'),\n",
    "    ('Profit', 'f8'),\n",
    "    ('Expenses', 'f8')\n",
    "]"
   ]
  },
  {
   "cell_type": "code",
   "execution_count": 7,
   "metadata": {},
   "outputs": [],
   "source": [
    "data = np.genfromtxt(\"..\\\\dane\\\\financial_data.csv\", delimiter=\",\", dtype=dtype, names=[\"Company\", \"Quarter\", \"Revenue\", \"Profit\", \"Expenses\"], skip_header=1)\n",
    "data = np.ma.filled(data)"
   ]
  },
  {
   "cell_type": "markdown",
   "metadata": {},
   "source": [
    "Wyznacz kolejne istotne wskaźniki finansowe:\n",
    "1. Oblicz wskaźniki Profit Margin i Expense Ratio."
   ]
  },
  {
   "cell_type": "code",
   "execution_count": 8,
   "metadata": {},
   "outputs": [
    {
     "data": {
      "text/plain": [
       "array([0.25411902, 0.49585635, 0.12701939, 0.39447472, 0.42071934,\n",
       "       0.18264432, 0.2061279 , 0.07740442, 0.11843369, 0.39007274,\n",
       "       0.9145696 , 0.32550471, 0.62980863, 0.09927016, 0.06048223,\n",
       "       0.13805862])"
      ]
     },
     "execution_count": 8,
     "metadata": {},
     "output_type": "execute_result"
    }
   ],
   "source": [
    "profit_margin = np.divide(data[\"Profit\"], data[\"Revenue\"])\n",
    "profit_margin"
   ]
  },
  {
   "cell_type": "code",
   "execution_count": 9,
   "metadata": {},
   "outputs": [
    {
     "data": {
      "text/plain": [
       "array([0.74588098, 0.50414365, 0.87298061, 0.60552528, 0.57928066,\n",
       "       0.81735568, 0.7938721 , 0.92259558, 0.88156631, 0.60992726,\n",
       "       0.0854304 , 0.67449529, 0.37019137, 0.90072984, 0.93951777,\n",
       "       0.86194138])"
      ]
     },
     "execution_count": 9,
     "metadata": {},
     "output_type": "execute_result"
    }
   ],
   "source": [
    "expense_ratio = np.divide(data[\"Expenses\"], data[\"Revenue\"])\n",
    "expense_ratio"
   ]
  },
  {
   "cell_type": "code",
   "execution_count": 10,
   "metadata": {},
   "outputs": [
    {
     "data": {
      "text/plain": [
       "array([('Company A', 'Q1', 25795., 6555., 19240., 0.25411902, 0.74588098),\n",
       "       ('Company A', 'Q2', 10860., 5385.,  5475., 0.49585635, 0.50414365),\n",
       "       ('Company A', 'Q3', 48158., 6117., 42041., 0.12701939, 0.87298061),\n",
       "       ('Company A', 'Q4', 21284., 8396., 12888., 0.39447472, 0.60552528),\n",
       "       ('Company B', 'Q1', 16265., 6843.,  9422., 0.42071934, 0.57928066),\n",
       "       ('Company B', 'Q2', 26850., 4904., 21946., 0.18264432, 0.81735568),\n",
       "       ('Company B', 'Q3', 47194., 9728., 37466., 0.2061279 , 0.7938721 ),\n",
       "       ('Company B', 'Q4', 31962., 2474., 29488., 0.07740442, 0.92259558),\n",
       "       ('Company C', 'Q1', 26023., 3082., 22941., 0.11843369, 0.88156631),\n",
       "       ('Company C', 'Q2', 11685., 4558.,  7127., 0.39007274, 0.60992726),\n",
       "       ('Company C', 'Q3', 10769., 9849.,   920., 0.9145696 , 0.0854304 ),\n",
       "       ('Company C', 'Q4', 12433., 4047.,  8386., 0.32550471, 0.67449529),\n",
       "       ('Company D', 'Q1', 15311., 9643.,  5668., 0.62980863, 0.37019137),\n",
       "       ('Company D', 'Q2', 47819., 4747., 43072., 0.09927016, 0.90072984),\n",
       "       ('Company D', 'Q3', 49188., 2975., 46213., 0.06048223, 0.93951777),\n",
       "       ('Company D', 'Q4', 27568., 3806., 23762., 0.13805862, 0.86194138)],\n",
       "      dtype=[('Company', '<U10'), ('Quarter', '<U10'), ('Revenue', '<f8'), ('Profit', '<f8'), ('Expenses', '<f8'), ('Profit Margin', '<f8'), ('Expense ratio', '<f8')])"
      ]
     },
     "execution_count": 10,
     "metadata": {},
     "output_type": "execute_result"
    }
   ],
   "source": [
    "data = rfn.append_fields(names=[\"Profit Margin\", \"Expense ratio\"], data=[profit_margin, expense_ratio], dtypes=[\"f8\", \"f8\"], base=data)\n",
    "data = np.ma.filled(data)\n",
    "data"
   ]
  },
  {
   "cell_type": "markdown",
   "metadata": {},
   "source": [
    "2. Wyznacz wskaźnik wzrostu przychodu (Revenue Growth)."
   ]
  },
  {
   "cell_type": "code",
   "execution_count": 11,
   "metadata": {},
   "outputs": [
    {
     "data": {
      "text/plain": [
       "array([-14935.,  37298., -26874.,  -5019.,  10585.,  20344., -15232.,\n",
       "        -5939., -14338.,   -916.,   1664.,   2878.,  32508.,   1369.,\n",
       "       -21620., -27568.])"
      ]
     },
     "execution_count": 11,
     "metadata": {},
     "output_type": "execute_result"
    }
   ],
   "source": [
    "revenue_growth = np.diff(data[\"Revenue\"], append=0)\n",
    "revenue_growth"
   ]
  },
  {
   "cell_type": "code",
   "execution_count": 12,
   "metadata": {},
   "outputs": [
    {
     "data": {
      "text/plain": [
       "array([ 0.        , -0.57898818,  3.43443831, -0.55803812, -0.23581094,\n",
       "        0.65078389,  0.75769088, -0.32275289, -0.1858144 , -0.55097414,\n",
       "       -0.0783911 ,  0.1545176 ,  0.23148074,  2.12317941,  0.02862879,\n",
       "       -0.4395381 ])"
      ]
     },
     "execution_count": 12,
     "metadata": {},
     "output_type": "execute_result"
    }
   ],
   "source": [
    "growth_rate = revenue_growth / data[\"Revenue\"]\n",
    "growth_rate = np.insert(growth_rate, 0, 0)\n",
    "growth_rate = growth_rate[:-1]\n",
    "growth_rate"
   ]
  },
  {
   "cell_type": "code",
   "execution_count": 13,
   "metadata": {},
   "outputs": [
    {
     "data": {
      "text/plain": [
       "array([('Company A', 'Q1', 25795., 6555., 19240., 0.25411902, 0.74588098,  0.        ),\n",
       "       ('Company A', 'Q2', 10860., 5385.,  5475., 0.49585635, 0.50414365, -0.57898818),\n",
       "       ('Company A', 'Q3', 48158., 6117., 42041., 0.12701939, 0.87298061,  3.43443831),\n",
       "       ('Company A', 'Q4', 21284., 8396., 12888., 0.39447472, 0.60552528, -0.55803812),\n",
       "       ('Company B', 'Q1', 16265., 6843.,  9422., 0.42071934, 0.57928066, -0.23581094),\n",
       "       ('Company B', 'Q2', 26850., 4904., 21946., 0.18264432, 0.81735568,  0.65078389),\n",
       "       ('Company B', 'Q3', 47194., 9728., 37466., 0.2061279 , 0.7938721 ,  0.75769088),\n",
       "       ('Company B', 'Q4', 31962., 2474., 29488., 0.07740442, 0.92259558, -0.32275289),\n",
       "       ('Company C', 'Q1', 26023., 3082., 22941., 0.11843369, 0.88156631, -0.1858144 ),\n",
       "       ('Company C', 'Q2', 11685., 4558.,  7127., 0.39007274, 0.60992726, -0.55097414),\n",
       "       ('Company C', 'Q3', 10769., 9849.,   920., 0.9145696 , 0.0854304 , -0.0783911 ),\n",
       "       ('Company C', 'Q4', 12433., 4047.,  8386., 0.32550471, 0.67449529,  0.1545176 ),\n",
       "       ('Company D', 'Q1', 15311., 9643.,  5668., 0.62980863, 0.37019137,  0.23148074),\n",
       "       ('Company D', 'Q2', 47819., 4747., 43072., 0.09927016, 0.90072984,  2.12317941),\n",
       "       ('Company D', 'Q3', 49188., 2975., 46213., 0.06048223, 0.93951777,  0.02862879),\n",
       "       ('Company D', 'Q4', 27568., 3806., 23762., 0.13805862, 0.86194138, -0.4395381 )],\n",
       "      dtype=[('Company', '<U10'), ('Quarter', '<U10'), ('Revenue', '<f8'), ('Profit', '<f8'), ('Expenses', '<f8'), ('Profit Margin', '<f8'), ('Expense ratio', '<f8'), ('Growth Rate', '<f8')])"
      ]
     },
     "execution_count": 13,
     "metadata": {},
     "output_type": "execute_result"
    }
   ],
   "source": [
    "data = rfn.append_fields(names=[\"Growth Rate\"], data=[growth_rate], dtypes=[\"f8\"], base=data)\n",
    "data = np.ma.filled(data)\n",
    "data"
   ]
  },
  {
   "cell_type": "code",
   "execution_count": 14,
   "metadata": {},
   "outputs": [
    {
     "data": {
      "text/plain": [
       "array([('Company A', 'Q2', 10860., 5385.,  5475., 0.49585635, 0.50414365, -0.57898818),\n",
       "       ('Company A', 'Q3', 48158., 6117., 42041., 0.12701939, 0.87298061,  3.43443831),\n",
       "       ('Company A', 'Q4', 21284., 8396., 12888., 0.39447472, 0.60552528, -0.55803812),\n",
       "       ('Company B', 'Q2', 26850., 4904., 21946., 0.18264432, 0.81735568,  0.65078389),\n",
       "       ('Company B', 'Q3', 47194., 9728., 37466., 0.2061279 , 0.7938721 ,  0.75769088),\n",
       "       ('Company B', 'Q4', 31962., 2474., 29488., 0.07740442, 0.92259558, -0.32275289),\n",
       "       ('Company C', 'Q2', 11685., 4558.,  7127., 0.39007274, 0.60992726, -0.55097414),\n",
       "       ('Company C', 'Q3', 10769., 9849.,   920., 0.9145696 , 0.0854304 , -0.0783911 ),\n",
       "       ('Company C', 'Q4', 12433., 4047.,  8386., 0.32550471, 0.67449529,  0.1545176 ),\n",
       "       ('Company D', 'Q2', 47819., 4747., 43072., 0.09927016, 0.90072984,  2.12317941),\n",
       "       ('Company D', 'Q3', 49188., 2975., 46213., 0.06048223, 0.93951777,  0.02862879),\n",
       "       ('Company D', 'Q4', 27568., 3806., 23762., 0.13805862, 0.86194138, -0.4395381 )],\n",
       "      dtype=[('Company', '<U10'), ('Quarter', '<U10'), ('Revenue', '<f8'), ('Profit', '<f8'), ('Expenses', '<f8'), ('Profit Margin', '<f8'), ('Expense ratio', '<f8'), ('Growth Rate', '<f8')])"
      ]
     },
     "execution_count": 14,
     "metadata": {},
     "output_type": "execute_result"
    }
   ],
   "source": [
    "cond = data[\"Quarter\"] != \"Q1\"\n",
    "filtered_data = data[cond]\n",
    "filtered_data"
   ]
  },
  {
   "cell_type": "code",
   "execution_count": 15,
   "metadata": {},
   "outputs": [
    {
     "data": {
      "text/plain": [
       "array([('Company A', 'Q3', 48158., 6117., 42041., 0.12701939, 0.87298061,  3.43443831),\n",
       "       ('Company D', 'Q2', 47819., 4747., 43072., 0.09927016, 0.90072984,  2.12317941),\n",
       "       ('Company B', 'Q3', 47194., 9728., 37466., 0.2061279 , 0.7938721 ,  0.75769088),\n",
       "       ('Company B', 'Q2', 26850., 4904., 21946., 0.18264432, 0.81735568,  0.65078389),\n",
       "       ('Company C', 'Q4', 12433., 4047.,  8386., 0.32550471, 0.67449529,  0.1545176 ),\n",
       "       ('Company D', 'Q3', 49188., 2975., 46213., 0.06048223, 0.93951777,  0.02862879),\n",
       "       ('Company C', 'Q3', 10769., 9849.,   920., 0.9145696 , 0.0854304 , -0.0783911 ),\n",
       "       ('Company B', 'Q4', 31962., 2474., 29488., 0.07740442, 0.92259558, -0.32275289),\n",
       "       ('Company D', 'Q4', 27568., 3806., 23762., 0.13805862, 0.86194138, -0.4395381 ),\n",
       "       ('Company C', 'Q2', 11685., 4558.,  7127., 0.39007274, 0.60992726, -0.55097414),\n",
       "       ('Company A', 'Q4', 21284., 8396., 12888., 0.39447472, 0.60552528, -0.55803812),\n",
       "       ('Company A', 'Q2', 10860., 5385.,  5475., 0.49585635, 0.50414365, -0.57898818)],\n",
       "      dtype=[('Company', '<U10'), ('Quarter', '<U10'), ('Revenue', '<f8'), ('Profit', '<f8'), ('Expenses', '<f8'), ('Profit Margin', '<f8'), ('Expense ratio', '<f8'), ('Growth Rate', '<f8')])"
      ]
     },
     "execution_count": 15,
     "metadata": {},
     "output_type": "execute_result"
    }
   ],
   "source": [
    "ascending_indices = np.argsort(filtered_data[\"Growth Rate\"])\n",
    "descending_indices = ascending_indices[::-1]\n",
    "filtered_data = filtered_data[descending_indices]\n",
    "filtered_data"
   ]
  },
  {
   "cell_type": "markdown",
   "metadata": {},
   "source": [
    "3. Wyznacz percentyl 10% na podstawie wszystkich uzyskanych wyników. "
   ]
  },
  {
   "cell_type": "code",
   "execution_count": 16,
   "metadata": {},
   "outputs": [
    {
     "data": {
      "text/plain": [
       "-0.5573317258823791"
      ]
     },
     "execution_count": 16,
     "metadata": {},
     "output_type": "execute_result"
    }
   ],
   "source": [
    "percentile = np.percentile(filtered_data[\"Growth Rate\"], 10)\n",
    "percentile"
   ]
  },
  {
   "cell_type": "markdown",
   "metadata": {},
   "source": [
    "4. Wyświetl wskaźnik wzrostu (Revenue Growth) jedynie dla firm i kwartałów, w którym były one najbardziej rentowne, tj. przekraczały wynik dla percentyla 10%."
   ]
  },
  {
   "cell_type": "code",
   "execution_count": 17,
   "metadata": {},
   "outputs": [],
   "source": [
    "cond2 = filtered_data[\"Growth Rate\"] > percentile\n",
    "filtered_data = filtered_data[cond2]"
   ]
  },
  {
   "cell_type": "code",
   "execution_count": 18,
   "metadata": {},
   "outputs": [
    {
     "data": {
      "text/plain": [
       "array([('Company A', 'Q3', 48158., 6117., 42041., 0.12701939, 0.87298061,  3.43443831),\n",
       "       ('Company D', 'Q2', 47819., 4747., 43072., 0.09927016, 0.90072984,  2.12317941),\n",
       "       ('Company B', 'Q3', 47194., 9728., 37466., 0.2061279 , 0.7938721 ,  0.75769088),\n",
       "       ('Company B', 'Q2', 26850., 4904., 21946., 0.18264432, 0.81735568,  0.65078389),\n",
       "       ('Company C', 'Q4', 12433., 4047.,  8386., 0.32550471, 0.67449529,  0.1545176 ),\n",
       "       ('Company D', 'Q3', 49188., 2975., 46213., 0.06048223, 0.93951777,  0.02862879),\n",
       "       ('Company C', 'Q3', 10769., 9849.,   920., 0.9145696 , 0.0854304 , -0.0783911 ),\n",
       "       ('Company B', 'Q4', 31962., 2474., 29488., 0.07740442, 0.92259558, -0.32275289),\n",
       "       ('Company D', 'Q4', 27568., 3806., 23762., 0.13805862, 0.86194138, -0.4395381 ),\n",
       "       ('Company C', 'Q2', 11685., 4558.,  7127., 0.39007274, 0.60992726, -0.55097414)],\n",
       "      dtype=[('Company', '<U10'), ('Quarter', '<U10'), ('Revenue', '<f8'), ('Profit', '<f8'), ('Expenses', '<f8'), ('Profit Margin', '<f8'), ('Expense ratio', '<f8'), ('Growth Rate', '<f8')])"
      ]
     },
     "execution_count": 18,
     "metadata": {},
     "output_type": "execute_result"
    }
   ],
   "source": [
    "filtered_data"
   ]
  },
  {
   "cell_type": "markdown",
   "metadata": {},
   "source": [
    "5. Dla każdej z firm, policz ile razy osiągnęła wynik High-Growth i wyświetl uzyskane wyniki."
   ]
  },
  {
   "cell_type": "code",
   "execution_count": 19,
   "metadata": {},
   "outputs": [],
   "source": [
    "unique, counts = np.unique(filtered_data[\"Company\"], return_counts=True)"
   ]
  },
  {
   "cell_type": "code",
   "execution_count": 20,
   "metadata": {},
   "outputs": [
    {
     "data": {
      "text/plain": [
       "(array(['Company A', 'Company B', 'Company C', 'Company D'], dtype='<U10'),\n",
       " array([1, 3, 3, 3], dtype=int64))"
      ]
     },
     "execution_count": 20,
     "metadata": {},
     "output_type": "execute_result"
    }
   ],
   "source": [
    "unique, counts"
   ]
  },
  {
   "cell_type": "markdown",
   "metadata": {},
   "source": [
    "6. Uszereguj firmy w oparciu o kryteria, takie jak ilość kwartałów High-Growth oraz najwyższy wzrost przychodów."
   ]
  },
  {
   "cell_type": "code",
   "execution_count": 21,
   "metadata": {},
   "outputs": [
    {
     "data": {
      "text/plain": [
       "array([('Company B', 'Q1', 16265., 6843.,  9422., 0.42071934, 0.57928066, -0.23581094),\n",
       "       ('Company B', 'Q2', 26850., 4904., 21946., 0.18264432, 0.81735568,  0.65078389),\n",
       "       ('Company B', 'Q3', 47194., 9728., 37466., 0.2061279 , 0.7938721 ,  0.75769088),\n",
       "       ('Company B', 'Q4', 31962., 2474., 29488., 0.07740442, 0.92259558, -0.32275289)],\n",
       "      dtype=[('Company', '<U10'), ('Quarter', '<U10'), ('Revenue', '<f8'), ('Profit', '<f8'), ('Expenses', '<f8'), ('Profit Margin', '<f8'), ('Expense ratio', '<f8'), ('Growth Rate', '<f8')])"
      ]
     },
     "execution_count": 21,
     "metadata": {},
     "output_type": "execute_result"
    }
   ],
   "source": [
    "comp_B = data[data[\"Company\"] == \"Company B\"]\n",
    "comp_B"
   ]
  },
  {
   "cell_type": "code",
   "execution_count": 22,
   "metadata": {},
   "outputs": [
    {
     "data": {
      "text/plain": [
       "0.22"
      ]
     },
     "execution_count": 22,
     "metadata": {},
     "output_type": "execute_result"
    }
   ],
   "source": [
    "avg_B = np.round(np.average(comp_B[\"Profit Margin\"]),2)\n",
    "avg_B"
   ]
  },
  {
   "cell_type": "code",
   "execution_count": 23,
   "metadata": {},
   "outputs": [
    {
     "data": {
      "text/plain": [
       "array([('Company C', 'Q1', 26023., 3082., 22941., 0.11843369, 0.88156631, -0.1858144 ),\n",
       "       ('Company C', 'Q2', 11685., 4558.,  7127., 0.39007274, 0.60992726, -0.55097414),\n",
       "       ('Company C', 'Q3', 10769., 9849.,   920., 0.9145696 , 0.0854304 , -0.0783911 ),\n",
       "       ('Company C', 'Q4', 12433., 4047.,  8386., 0.32550471, 0.67449529,  0.1545176 )],\n",
       "      dtype=[('Company', '<U10'), ('Quarter', '<U10'), ('Revenue', '<f8'), ('Profit', '<f8'), ('Expenses', '<f8'), ('Profit Margin', '<f8'), ('Expense ratio', '<f8'), ('Growth Rate', '<f8')])"
      ]
     },
     "execution_count": 23,
     "metadata": {},
     "output_type": "execute_result"
    }
   ],
   "source": [
    "comp_C = data[data[\"Company\"] == \"Company C\"]\n",
    "comp_C"
   ]
  },
  {
   "cell_type": "code",
   "execution_count": 24,
   "metadata": {},
   "outputs": [
    {
     "data": {
      "text/plain": [
       "0.44"
      ]
     },
     "execution_count": 24,
     "metadata": {},
     "output_type": "execute_result"
    }
   ],
   "source": [
    "avg_C = np.round(np.average(comp_C[\"Profit Margin\"]),2)\n",
    "avg_C"
   ]
  },
  {
   "cell_type": "code",
   "execution_count": 25,
   "metadata": {},
   "outputs": [
    {
     "data": {
      "text/plain": [
       "array([('Company D', 'Q1', 15311., 9643.,  5668., 0.62980863, 0.37019137,  0.23148074),\n",
       "       ('Company D', 'Q2', 47819., 4747., 43072., 0.09927016, 0.90072984,  2.12317941),\n",
       "       ('Company D', 'Q3', 49188., 2975., 46213., 0.06048223, 0.93951777,  0.02862879),\n",
       "       ('Company D', 'Q4', 27568., 3806., 23762., 0.13805862, 0.86194138, -0.4395381 )],\n",
       "      dtype=[('Company', '<U10'), ('Quarter', '<U10'), ('Revenue', '<f8'), ('Profit', '<f8'), ('Expenses', '<f8'), ('Profit Margin', '<f8'), ('Expense ratio', '<f8'), ('Growth Rate', '<f8')])"
      ]
     },
     "execution_count": 25,
     "metadata": {},
     "output_type": "execute_result"
    }
   ],
   "source": [
    "comp_D = data[data[\"Company\"] == \"Company D\"]\n",
    "comp_D"
   ]
  },
  {
   "cell_type": "code",
   "execution_count": 26,
   "metadata": {},
   "outputs": [
    {
     "data": {
      "text/plain": [
       "0.23"
      ]
     },
     "execution_count": 26,
     "metadata": {},
     "output_type": "execute_result"
    }
   ],
   "source": [
    "avg_D = np.round(np.average(comp_D[\"Profit Margin\"]),2)\n",
    "avg_D"
   ]
  },
  {
   "cell_type": "code",
   "execution_count": 27,
   "metadata": {},
   "outputs": [
    {
     "data": {
      "text/plain": [
       "array([('Company B', 3., 0.), ('Company C', 3., 0.),\n",
       "       ('Company D', 3., 0.)],\n",
       "      dtype=[('f0', '<U10'), ('Consistent High-Growth Quarters', '<f8'), ('Average Profit Margin', '<f8')])"
      ]
     },
     "execution_count": 27,
     "metadata": {},
     "output_type": "execute_result"
    }
   ],
   "source": [
    "empty = np.zeros(4)\n",
    "solution = rfn.append_fields(names=[\"Consistent High-Growth Quarters\", \"Average Profit Margin\"], data=[counts, empty], dtypes=[\"f8\", \"f8\"], base=unique)\n",
    "solution = np.ma.filled(solution)\n",
    "solution = solution[1:]\n",
    "solution"
   ]
  },
  {
   "cell_type": "code",
   "execution_count": 28,
   "metadata": {},
   "outputs": [
    {
     "data": {
      "text/plain": [
       "array([('Company B', 3., 0.22), ('Company C', 3., 0.44),\n",
       "       ('Company D', 3., 0.23)],\n",
       "      dtype=[('f0', '<U10'), ('Consistent High-Growth Quarters', '<f8'), ('Average Profit Margin', '<f8')])"
      ]
     },
     "execution_count": 28,
     "metadata": {},
     "output_type": "execute_result"
    }
   ],
   "source": [
    "solution[\"Average Profit Margin\"][0] = avg_B \n",
    "solution[\"Average Profit Margin\"][1] = avg_C\n",
    "solution[\"Average Profit Margin\"][2] = avg_D\n",
    "solution"
   ]
  },
  {
   "cell_type": "code",
   "execution_count": 29,
   "metadata": {},
   "outputs": [
    {
     "data": {
      "text/plain": [
       "array([('Company C', 3., 0.44), ('Company D', 3., 0.23),\n",
       "       ('Company B', 3., 0.22)],\n",
       "      dtype=[('f0', '<U10'), ('Consistent High-Growth Quarters', '<f8'), ('Average Profit Margin', '<f8')])"
      ]
     },
     "execution_count": 29,
     "metadata": {},
     "output_type": "execute_result"
    }
   ],
   "source": [
    "ascending_indices = np.argsort(solution[\"Average Profit Margin\"])\n",
    "descending_indices = ascending_indices[::-1]\n",
    "solution = solution[descending_indices]\n",
    "solution"
   ]
  },
  {
   "cell_type": "code",
   "execution_count": 30,
   "metadata": {},
   "outputs": [
    {
     "data": {
      "text/html": [
       "<div>\n",
       "<style scoped>\n",
       "    .dataframe tbody tr th:only-of-type {\n",
       "        vertical-align: middle;\n",
       "    }\n",
       "\n",
       "    .dataframe tbody tr th {\n",
       "        vertical-align: top;\n",
       "    }\n",
       "\n",
       "    .dataframe thead th {\n",
       "        text-align: right;\n",
       "    }\n",
       "</style>\n",
       "<table border=\"1\" class=\"dataframe\">\n",
       "  <thead>\n",
       "    <tr style=\"text-align: right;\">\n",
       "      <th></th>\n",
       "      <th>f0</th>\n",
       "      <th>Consistent High-Growth Quarters</th>\n",
       "      <th>Average Profit Margin</th>\n",
       "    </tr>\n",
       "  </thead>\n",
       "  <tbody>\n",
       "    <tr>\n",
       "      <th>0</th>\n",
       "      <td>Company C</td>\n",
       "      <td>3.0</td>\n",
       "      <td>0.44</td>\n",
       "    </tr>\n",
       "    <tr>\n",
       "      <th>1</th>\n",
       "      <td>Company D</td>\n",
       "      <td>3.0</td>\n",
       "      <td>0.23</td>\n",
       "    </tr>\n",
       "    <tr>\n",
       "      <th>2</th>\n",
       "      <td>Company B</td>\n",
       "      <td>3.0</td>\n",
       "      <td>0.22</td>\n",
       "    </tr>\n",
       "  </tbody>\n",
       "</table>\n",
       "</div>"
      ],
      "text/plain": [
       "          f0  Consistent High-Growth Quarters  Average Profit Margin\n",
       "0  Company C                              3.0                   0.44\n",
       "1  Company D                              3.0                   0.23\n",
       "2  Company B                              3.0                   0.22"
      ]
     },
     "execution_count": 30,
     "metadata": {},
     "output_type": "execute_result"
    }
   ],
   "source": [
    "df = pd.DataFrame(solution)\n",
    "df"
   ]
  }
 ],
 "metadata": {
  "kernelspec": {
   "display_name": "Python 3",
   "language": "python",
   "name": "python3"
  },
  "language_info": {
   "codemirror_mode": {
    "name": "ipython",
    "version": 3
   },
   "file_extension": ".py",
   "mimetype": "text/x-python",
   "name": "python",
   "nbconvert_exporter": "python",
   "pygments_lexer": "ipython3",
   "version": "3.10.1"
  }
 },
 "nbformat": 4,
 "nbformat_minor": 2
}
